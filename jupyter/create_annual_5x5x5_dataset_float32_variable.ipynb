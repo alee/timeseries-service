{
 "cells": [
  {
   "cell_type": "markdown",
   "metadata": {},
   "source": [
    "### Import standard GDAL and NumPy packages"
   ]
  },
  {
   "cell_type": "code",
   "execution_count": null,
   "metadata": {},
   "outputs": [],
   "source": [
    "import numpy as np\n",
    "from osgeo import gdal"
   ]
  },
  {
   "cell_type": "markdown",
   "metadata": {},
   "source": [
    "### Import SKOPE data analysis functions"
   ]
  },
  {
   "cell_type": "code",
   "execution_count": null,
   "metadata": {},
   "outputs": [],
   "source": [
    "import skope_analysis as sa"
   ]
  },
  {
   "cell_type": "markdown",
   "metadata": {},
   "source": [
    "### Set the location and name of the data set file to create"
   ]
  },
  {
   "cell_type": "code",
   "execution_count": null,
   "metadata": {},
   "outputs": [],
   "source": [
    "test_dataset_filename =             '../data/annual_5x5x5_dataset_float32_variable.tif'\n",
    "test_dataset_uncertainty_filename = '../data/annual_5x5x5_dataset_float32_variable_uncertainty.tif'"
   ]
  },
  {
   "cell_type": "markdown",
   "metadata": {},
   "source": [
    "### Create the test dataset and uncertainty files using a local utility function"
   ]
  },
  {
   "cell_type": "code",
   "execution_count": null,
   "metadata": {},
   "outputs": [],
   "source": [
    "dataset = sa.create_dataset_file(\n",
    "    filename     = test_dataset_filename,\n",
    "    format       = 'GTiff',\n",
    "    pixel_type   = gdal.GDT_Float32, \n",
    "    rows         = 5, \n",
    "    cols         = 5, \n",
    "    bands        = 5,\n",
    "    origin_x     = -123,\n",
    "    origin_y     = 45,\n",
    "    pixel_width  = 1, \n",
    "    pixel_height = 1\n",
    ")\n",
    "\n",
    "dataset_uncertainty = sa.create_dataset_file(\n",
    "    filename     = test_dataset_uncertainty_filename,\n",
    "    format       = 'GTiff',\n",
    "    pixel_type   = gdal.GDT_Float32, \n",
    "    rows         = 5, \n",
    "    cols         = 5, \n",
    "    bands        = 5,\n",
    "    origin_x     = -123,\n",
    "    origin_y     = 45,\n",
    "    pixel_width  = 1, \n",
    "    pixel_height = 1\n",
    ")"
   ]
  },
  {
   "cell_type": "markdown",
   "metadata": {},
   "source": [
    "### Define the pixel values to be assigned to the first band of the data set and uncertainties"
   ]
  },
  {
   "cell_type": "code",
   "execution_count": null,
   "metadata": {},
   "outputs": [],
   "source": [
    "import math\n",
    "nodata = math.nan\n",
    "\n",
    "band_1_data = np.array([\n",
    "    [100, 101.1, 102.2, 103.3, 104.4],\n",
    "    [110, 111.1, 112.2, 113.3, 114.4],\n",
    "    [120, 121.1, 122.2, 123.3, 124.4],\n",
    "    [130, 131.1, 132.2, 133.3, nodata],\n",
    "    [140, 141.1, 142.2, 143.3, 144.4]\n",
    "])\n",
    "\n",
    "band_1_uncertainty = np.array([\n",
    "    [10, 10.1, 10.2, 10.3, 10.4],\n",
    "    [11, 11.1, 11.2, 11.3, 11.4],\n",
    "    [12, 12.1, 12.2, 12.3, 12.4],\n",
    "    [13, 13.1, 13.2, 13.3, 13.4],\n",
    "    [14, 14.1, 14.2, 14.3, 14.4], \n",
    "]) "
   ]
  },
  {
   "cell_type": "markdown",
   "metadata": {},
   "source": [
    "### Write pixel values to each band of the data set\n",
    "For all bands other than the first, the value of each pixel is 100 more than the pixel directly below it in the previous band."
   ]
  },
  {
   "cell_type": "code",
   "execution_count": null,
   "metadata": {},
   "outputs": [],
   "source": [
    "for i in range(0,5):\n",
    "    \n",
    "    sa.write_band(\n",
    "        dataset = dataset,\n",
    "        band    = i + 1,\n",
    "        array   = band_1_data + i * 100,\n",
    "        nodata  = nodata\n",
    "    )\n",
    "    \n",
    "    sa.write_pixel(dataset,band=i+1,row=3,column=4,value=nodata)\n",
    "\n",
    "    sa.write_band(\n",
    "        dataset = dataset_uncertainty,\n",
    "        band    = i + 1,\n",
    "        array   = band_1_uncertainty + i * 10,\n",
    "        nodata  = nodata\n",
    "    )\n",
    "    \n",
    "sa.write_pixel(dataset,band=3,row=2,column=4,value=nodata)\n",
    "    \n",
    "dataset.FlushCache()\n",
    "dataset_uncertainty.FlushCache()"
   ]
  },
  {
   "cell_type": "markdown",
   "metadata": {},
   "source": [
    "### Confirm some expected pixel values in the new data set and uncertainties"
   ]
  },
  {
   "cell_type": "code",
   "execution_count": null,
   "metadata": {},
   "outputs": [],
   "source": [
    "assert sa.read_pixel(dataset,band=1,row=0,column=0) == 100\n",
    "assert sa.read_pixel(dataset,band=1,row=4,column=4) - 144.4 < 0.001\n",
    "\n",
    "assert math.isnan(sa.read_pixel(dataset,band=1,row=3,column=4))\n",
    "assert math.isnan(sa.read_pixel(dataset,band=2,row=3,column=4))\n",
    "assert math.isnan(sa.read_pixel(dataset,band=3,row=3,column=4))\n",
    "assert math.isnan(sa.read_pixel(dataset,band=4,row=3,column=4))\n",
    "assert math.isnan(sa.read_pixel(dataset,band=5,row=3,column=4))\n",
    "assert math.isnan(sa.read_pixel(dataset,band=3,row=2,column=4))"
   ]
  },
  {
   "cell_type": "markdown",
   "metadata": {},
   "source": [
    "### Display pixel values and uncertainties for each band of new data set for easy reference"
   ]
  },
  {
   "cell_type": "code",
   "execution_count": null,
   "metadata": {
    "scrolled": true
   },
   "outputs": [],
   "source": [
    "for i in range(1,6):\n",
    "    print(\"\\nband\", i, \"\\n\", \n",
    "          dataset.GetRasterBand(i).ReadAsArray(), \"\\n\", \n",
    "          \"\\nband\", i, \"uncertainty\\n\", \n",
    "          dataset_uncertainty.GetRasterBand(i).ReadAsArray()\n",
    "         )"
   ]
  }
 ],
 "metadata": {
  "kernelspec": {
   "display_name": "Python 3",
   "language": "python",
   "name": "python3"
  },
  "language_info": {
   "codemirror_mode": {
    "name": "ipython",
    "version": 3
   },
   "file_extension": ".py",
   "mimetype": "text/x-python",
   "name": "python",
   "nbconvert_exporter": "python",
   "pygments_lexer": "ipython3",
   "version": "3.6.5"
  }
 },
 "nbformat": 4,
 "nbformat_minor": 2
}
