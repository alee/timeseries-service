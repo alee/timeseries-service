{
 "cells": [
  {
   "cell_type": "code",
   "execution_count": 19,
   "metadata": {},
   "outputs": [],
   "source": [
    "import osr\n",
    "import numpy as np\n",
    "from osgeo import gdal"
   ]
  },
  {
   "cell_type": "code",
   "execution_count": 20,
   "metadata": {},
   "outputs": [],
   "source": [
    "def create_dataset_file(filename, format, pixel_type, rows, cols, bands):\n",
    "    driver = gdal.GetDriverByName(format)\n",
    "    dataset = driver.Create(filename, cols, rows, bands, pixel_type)\n",
    "    return dataset"
   ]
  },
  {
   "cell_type": "code",
   "execution_count": 21,
   "metadata": {},
   "outputs": [],
   "source": [
    "def set_projection(dataset, origin_x, origin_y, pixel_width, pixel_height, coordinate_system='WGS84'):\n",
    "    dataset.SetGeoTransform((origin_x, pixel_width, 0, origin_y, 0, pixel_height))\n",
    "    srs = osr.SpatialReference()\n",
    "    srs.SetWellKnownGeogCS(coordinate_system)\n",
    "    dataset.SetProjection(srs.ExportToWkt())"
   ]
  },
  {
   "cell_type": "code",
   "execution_count": 22,
   "metadata": {},
   "outputs": [],
   "source": [
    "def write_band(dataset, band, array, nodata):\n",
    "    band = dataset.GetRasterBand(band)\n",
    "    band.WriteArray(array)\n",
    "    band.SetNoDataValue(nodata)\n",
    "    band.FlushCache()"
   ]
  },
  {
   "cell_type": "code",
   "execution_count": 23,
   "metadata": {},
   "outputs": [],
   "source": [
    "dataset = create_dataset_file(\n",
    "    filename   = '5x5x5_temp_float32_uncertainty.tif', \n",
    "    format     = 'GTiff', \n",
    "    pixel_type = gdal.GDT_Float32, \n",
    "    rows       = 5, \n",
    "    cols       = 5, \n",
    "    bands      = 5\n",
    ")"
   ]
  },
  {
   "cell_type": "code",
   "execution_count": 24,
   "metadata": {},
   "outputs": [],
   "source": [
    "set_projection(\n",
    "    dataset, \n",
    "    origin_x     = -123, \n",
    "    origin_y     = 45,\n",
    "    pixel_width  = 1, \n",
    "    pixel_height = 1, \n",
    ")"
   ]
  },
  {
   "cell_type": "code",
   "execution_count": 28,
   "metadata": {},
   "outputs": [
    {
     "data": {
      "text/plain": [
       "<osgeo.gdal.Band; proxy of <Swig Object of type 'GDALRasterBandShadow *' at 0x7fcfd40bf270> >"
      ]
     },
     "execution_count": 28,
     "metadata": {},
     "output_type": "execute_result"
    }
   ],
   "source": [
    "dataset.GetRasterBand(1)"
   ]
  },
  {
   "cell_type": "code",
   "execution_count": 14,
   "metadata": {},
   "outputs": [],
   "source": [
    "nodata = 65535"
   ]
  },
  {
   "cell_type": "code",
   "execution_count": 15,
   "metadata": {},
   "outputs": [],
   "source": [
    "write_band(\n",
    "    dataset,\n",
    "    band = 1,\n",
    "    array = np.array([\n",
    "        [100, 101, 102, 103, 104],\n",
    "        [110, 111, 112, 113, 114],\n",
    "        [120, 121, 122, 123, 124],\n",
    "        [130, 131, 132, 133, nodata],\n",
    "        [140, 141, 142, 143, 144],\n",
    "    ]),\n",
    "    nodata = nodata\n",
    ")\n"
   ]
  },
  {
   "cell_type": "code",
   "execution_count": 16,
   "metadata": {},
   "outputs": [
    {
     "data": {
      "text/plain": [
       "<osgeo.gdal.Dataset; proxy of <Swig Object of type 'GDALDatasetShadow *' at 0x7fcfd40febd0> >"
      ]
     },
     "execution_count": 16,
     "metadata": {},
     "output_type": "execute_result"
    }
   ],
   "source": [
    "dataset\n"
   ]
  },
  {
   "cell_type": "code",
   "execution_count": null,
   "metadata": {},
   "outputs": [],
   "source": []
  }
 ],
 "metadata": {
  "kernelspec": {
   "display_name": "Python 3",
   "language": "python",
   "name": "python3"
  },
  "language_info": {
   "codemirror_mode": {
    "name": "ipython",
    "version": 3
   },
   "file_extension": ".py",
   "mimetype": "text/x-python",
   "name": "python",
   "nbconvert_exporter": "python",
   "pygments_lexer": "ipython3",
   "version": "3.6.5"
  }
 },
 "nbformat": 4,
 "nbformat_minor": 2
}
