{
 "cells": [
  {
   "cell_type": "markdown",
   "metadata": {},
   "source": [
    "### Import standard GDAL and NumPy packages"
   ]
  },
  {
   "cell_type": "code",
   "execution_count": 1,
   "metadata": {},
   "outputs": [],
   "source": [
    "import numpy as np\n",
    "from osgeo import gdal"
   ]
  },
  {
   "cell_type": "markdown",
   "metadata": {},
   "source": [
    "### Import SKOPE utility functions for working with GDAL"
   ]
  },
  {
   "cell_type": "code",
   "execution_count": 2,
   "metadata": {},
   "outputs": [],
   "source": [
    "import skope.gdal"
   ]
  },
  {
   "cell_type": "markdown",
   "metadata": {},
   "source": [
    "### Set the location and name of the data set file to create"
   ]
  },
  {
   "cell_type": "code",
   "execution_count": 3,
   "metadata": {},
   "outputs": [],
   "source": [
    "test_dataset_filename = '../data/5x5x5_temp_float32.tif'"
   ]
  },
  {
   "cell_type": "markdown",
   "metadata": {},
   "source": [
    "### Create the test dataset file using a local utility function"
   ]
  },
  {
   "cell_type": "code",
   "execution_count": 4,
   "metadata": {},
   "outputs": [],
   "source": [
    "dataset = skope.gdal.create_dataset_file(\n",
    "    filename     = test_dataset_filename,\n",
    "    format       = 'GTiff',\n",
    "    pixel_type   = gdal.GDT_Float32, \n",
    "    rows         = 5, \n",
    "    cols         = 5, \n",
    "    bands        = 5,\n",
    "    origin_x     = -123,\n",
    "    origin_y     = 45,\n",
    "    pixel_width  = 1, \n",
    "    pixel_height = 1\n",
    ")"
   ]
  },
  {
   "cell_type": "markdown",
   "metadata": {},
   "source": [
    "### Define the pixel values to be assigned to the first band of the data set"
   ]
  },
  {
   "cell_type": "code",
   "execution_count": 5,
   "metadata": {},
   "outputs": [],
   "source": [
    "nodata = -1\n",
    "\n",
    "band_1_data = np.array([\n",
    "    [100, 101.1, 102.2, 103.3, 104.4],\n",
    "    [110, 111.1, 112.2, 113.3, 114.4],\n",
    "    [120, 121.1, 122.2, 123.3, 124.4],\n",
    "    [130, 131.1, 132.2, 133.3, nodata],\n",
    "    [140, 141.1, 142.2, 143.3, 144.4]\n",
    "])"
   ]
  },
  {
   "cell_type": "markdown",
   "metadata": {},
   "source": [
    "### Write pixel values to each band of the data set\n",
    "For all bands other than the first, the value of each pixel is 100 more than the pixel directly below it in the previous band."
   ]
  },
  {
   "cell_type": "code",
   "execution_count": 6,
   "metadata": {},
   "outputs": [],
   "source": [
    "for i in range(0,5):\n",
    "    skope.gdal.write_band(\n",
    "        dataset = dataset,\n",
    "        band    = i + 1,\n",
    "        array   = band_1_data + i * 100,\n",
    "        nodata  = nodata\n",
    "    )\n",
    "    skope.gdal.write_pixel(dataset,band=i+1,row=3,column=4,value=nodata)\n",
    "\n",
    "skope.gdal.write_pixel(dataset,band=3,row=2,column=4,value=nodata)\n",
    "    \n",
    "dataset.FlushCache()"
   ]
  },
  {
   "cell_type": "markdown",
   "metadata": {},
   "source": [
    "### Confirm some expected pixel values in the new data set"
   ]
  },
  {
   "cell_type": "code",
   "execution_count": 7,
   "metadata": {},
   "outputs": [],
   "source": [
    "assert skope.gdal.read_pixel(dataset,band=1,row=0,column=0) == 100\n",
    "assert skope.gdal.read_pixel(dataset,band=1,row=4,column=4) - 144.4 < 0.001\n",
    "assert skope.gdal.read_pixel(dataset,band=1,row=3,column=4) == -1\n",
    "assert skope.gdal.read_pixel(dataset,band=2,row=3,column=4) == -1\n",
    "assert skope.gdal.read_pixel(dataset,band=3,row=3,column=4) == -1\n",
    "assert skope.gdal.read_pixel(dataset,band=4,row=3,column=4) == -1\n",
    "assert skope.gdal.read_pixel(dataset,band=5,row=3,column=4) == -1\n",
    "assert skope.gdal.read_pixel(dataset,band=3,row=2,column=4) == -1"
   ]
  },
  {
   "cell_type": "markdown",
   "metadata": {},
   "source": [
    "### Display pixel values in each band of new data set for easy reference"
   ]
  },
  {
   "cell_type": "code",
   "execution_count": 8,
   "metadata": {},
   "outputs": [
    {
     "name": "stdout",
     "output_type": "stream",
     "text": [
      "\n",
      "band 1 \n",
      " [[100.  101.1 102.2 103.3 104.4]\n",
      " [110.  111.1 112.2 113.3 114.4]\n",
      " [120.  121.1 122.2 123.3 124.4]\n",
      " [130.  131.1 132.2 133.3  -1. ]\n",
      " [140.  141.1 142.2 143.3 144.4]]\n",
      "\n",
      "band 2 \n",
      " [[200.  201.1 202.2 203.3 204.4]\n",
      " [210.  211.1 212.2 213.3 214.4]\n",
      " [220.  221.1 222.2 223.3 224.4]\n",
      " [230.  231.1 232.2 233.3  -1. ]\n",
      " [240.  241.1 242.2 243.3 244.4]]\n",
      "\n",
      "band 3 \n",
      " [[300.  301.1 302.2 303.3 304.4]\n",
      " [310.  311.1 312.2 313.3 314.4]\n",
      " [320.  321.1 322.2 323.3  -1. ]\n",
      " [330.  331.1 332.2 333.3  -1. ]\n",
      " [340.  341.1 342.2 343.3 344.4]]\n",
      "\n",
      "band 4 \n",
      " [[400.  401.1 402.2 403.3 404.4]\n",
      " [410.  411.1 412.2 413.3 414.4]\n",
      " [420.  421.1 422.2 423.3 424.4]\n",
      " [430.  431.1 432.2 433.3  -1. ]\n",
      " [440.  441.1 442.2 443.3 444.4]]\n",
      "\n",
      "band 5 \n",
      " [[500.  501.1 502.2 503.3 504.4]\n",
      " [510.  511.1 512.2 513.3 514.4]\n",
      " [520.  521.1 522.2 523.3 524.4]\n",
      " [530.  531.1 532.2 533.3  -1. ]\n",
      " [540.  541.1 542.2 543.3 544.4]]\n"
     ]
    }
   ],
   "source": [
    "for i in range(1,6):\n",
    "    print(\"\\nband\", i, \"\\n\", dataset.GetRasterBand(i).ReadAsArray())"
   ]
  },
  {
   "cell_type": "code",
   "execution_count": null,
   "metadata": {},
   "outputs": [],
   "source": []
  }
 ],
 "metadata": {
  "kernelspec": {
   "display_name": "Python 3",
   "language": "python",
   "name": "python3"
  },
  "language_info": {
   "codemirror_mode": {
    "name": "ipython",
    "version": 3
   },
   "file_extension": ".py",
   "mimetype": "text/x-python",
   "name": "python",
   "nbconvert_exporter": "python",
   "pygments_lexer": "ipython3",
   "version": "3.6.5"
  }
 },
 "nbformat": 4,
 "nbformat_minor": 2
}
